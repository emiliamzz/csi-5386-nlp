{
 "cells": [
  {
   "cell_type": "markdown",
   "source": [
    "# Assignment 2\n",
    "Emilia Zielinska\n",
    "CSI 5386 <br>\n",
    "Dr. Diana Inkpen <br>\n",
    "March 24, 2024"
   ],
   "metadata": {
    "collapsed": false
   },
   "id": "e20d403089f23745"
  },
  {
   "cell_type": "markdown",
   "source": [
    "## Imports and Function Definitions"
   ],
   "metadata": {
    "collapsed": false
   },
   "id": "564ea849a06a9e51"
  },
  {
   "cell_type": "code",
   "execution_count": 7,
   "id": "cddac348ee756c78",
   "metadata": {
    "collapsed": false,
    "ExecuteTime": {
     "end_time": "2024-03-23T23:06:27.183284Z",
     "start_time": "2024-03-23T23:06:27.177946Z"
    }
   },
   "outputs": [],
   "source": [
    "import cohere\n",
    "import evaluate\n",
    "import numpy as np\n",
    "import pandas as pd\n",
    "from datasets import Dataset    \n",
    "from sklearn import svm\n",
    "from sklearn.feature_extraction.text import TfidfVectorizer\n",
    "from sklearn.metrics import accuracy_score, f1_score\n",
    "from sklearn.model_selection import train_test_split\n",
    "from transformers import AutoModelForSequenceClassification, AutoTokenizer, Trainer, TrainingArguments"
   ]
  },
  {
   "cell_type": "code",
   "execution_count": 2,
   "id": "4b8265312ecff1d1",
   "metadata": {
    "collapsed": false,
    "ExecuteTime": {
     "end_time": "2024-03-23T23:01:08.909308Z",
     "start_time": "2024-03-23T23:01:08.903904Z"
    }
   },
   "outputs": [],
   "source": [
    "def print_results(pred, path):\n",
    "    print_data = test_data.drop(['text'], axis=1)\n",
    "    print_data['label'] = pd.Series(pred)\n",
    "    print_data.to_json(path, orient='records', lines=True)"
   ]
  },
  {
   "cell_type": "code",
   "outputs": [],
   "source": [
    "# Import data\n",
    "train_data = pd.read_json(path_or_buf='./train/subtaskA_train_monolingual.jsonl', lines=True)\n",
    "test_data = pd.read_json(path_or_buf='./test/subtaskA_monolingual.jsonl', lines=True)\n",
    "gold_data = pd.read_json(path_or_buf='./gold/subtaskA_monolingual.jsonl', lines=True)"
   ],
   "metadata": {
    "collapsed": false,
    "ExecuteTime": {
     "end_time": "2024-03-23T23:01:27.221202Z",
     "start_time": "2024-03-23T23:01:20.502387Z"
    }
   },
   "id": "b91e863279750d65",
   "execution_count": 3
  },
  {
   "cell_type": "code",
   "outputs": [],
   "source": [
    "# Create the y labels\n",
    "y_train = train_data['label']\n",
    "y_gold = gold_data['label']"
   ],
   "metadata": {
    "collapsed": false,
    "ExecuteTime": {
     "end_time": "2024-03-23T23:01:27.227290Z",
     "start_time": "2024-03-23T23:01:27.223227Z"
    }
   },
   "id": "611cdc924d76b2a5",
   "execution_count": 4
  },
  {
   "cell_type": "markdown",
   "source": [
    "## SVM Baseline Classifier"
   ],
   "metadata": {
    "collapsed": false
   },
   "id": "3beacf20383b5b0c"
  },
  {
   "cell_type": "code",
   "outputs": [],
   "source": [
    "# Vectorize the text\n",
    "vectorizer = TfidfVectorizer(stop_words='english', max_features=59552)\n",
    "train_vec = vectorizer.fit_transform(train_data['text'])\n",
    "gold_vec = vectorizer.fit_transform(gold_data['text'])"
   ],
   "metadata": {
    "ExecuteTime": {
     "end_time": "2024-03-22T20:39:08.460767Z",
     "start_time": "2024-03-22T20:38:17.675571Z"
    },
    "collapsed": false
   },
   "id": "10e5207bfff052f6",
   "execution_count": 16
  },
  {
   "cell_type": "code",
   "outputs": [
    {
     "data": {
      "text/html": [
       "<style>#sk-container-id-1 {color: black;background-color: white;}#sk-container-id-1 pre{padding: 0;}#sk-container-id-1 div.sk-toggleable {background-color: white;}#sk-container-id-1 label.sk-toggleable__label {cursor: pointer;display: block;width: 100%;margin-bottom: 0;padding: 0.3em;box-sizing: border-box;text-align: center;}#sk-container-id-1 label.sk-toggleable__label-arrow:before {content: \"▸\";float: left;margin-right: 0.25em;color: #696969;}#sk-container-id-1 label.sk-toggleable__label-arrow:hover:before {color: black;}#sk-container-id-1 div.sk-estimator:hover label.sk-toggleable__label-arrow:before {color: black;}#sk-container-id-1 div.sk-toggleable__content {max-height: 0;max-width: 0;overflow: hidden;text-align: left;background-color: #f0f8ff;}#sk-container-id-1 div.sk-toggleable__content pre {margin: 0.2em;color: black;border-radius: 0.25em;background-color: #f0f8ff;}#sk-container-id-1 input.sk-toggleable__control:checked~div.sk-toggleable__content {max-height: 200px;max-width: 100%;overflow: auto;}#sk-container-id-1 input.sk-toggleable__control:checked~label.sk-toggleable__label-arrow:before {content: \"▾\";}#sk-container-id-1 div.sk-estimator input.sk-toggleable__control:checked~label.sk-toggleable__label {background-color: #d4ebff;}#sk-container-id-1 div.sk-label input.sk-toggleable__control:checked~label.sk-toggleable__label {background-color: #d4ebff;}#sk-container-id-1 input.sk-hidden--visually {border: 0;clip: rect(1px 1px 1px 1px);clip: rect(1px, 1px, 1px, 1px);height: 1px;margin: -1px;overflow: hidden;padding: 0;position: absolute;width: 1px;}#sk-container-id-1 div.sk-estimator {font-family: monospace;background-color: #f0f8ff;border: 1px dotted black;border-radius: 0.25em;box-sizing: border-box;margin-bottom: 0.5em;}#sk-container-id-1 div.sk-estimator:hover {background-color: #d4ebff;}#sk-container-id-1 div.sk-parallel-item::after {content: \"\";width: 100%;border-bottom: 1px solid gray;flex-grow: 1;}#sk-container-id-1 div.sk-label:hover label.sk-toggleable__label {background-color: #d4ebff;}#sk-container-id-1 div.sk-serial::before {content: \"\";position: absolute;border-left: 1px solid gray;box-sizing: border-box;top: 0;bottom: 0;left: 50%;z-index: 0;}#sk-container-id-1 div.sk-serial {display: flex;flex-direction: column;align-items: center;background-color: white;padding-right: 0.2em;padding-left: 0.2em;position: relative;}#sk-container-id-1 div.sk-item {position: relative;z-index: 1;}#sk-container-id-1 div.sk-parallel {display: flex;align-items: stretch;justify-content: center;background-color: white;position: relative;}#sk-container-id-1 div.sk-item::before, #sk-container-id-1 div.sk-parallel-item::before {content: \"\";position: absolute;border-left: 1px solid gray;box-sizing: border-box;top: 0;bottom: 0;left: 50%;z-index: -1;}#sk-container-id-1 div.sk-parallel-item {display: flex;flex-direction: column;z-index: 1;position: relative;background-color: white;}#sk-container-id-1 div.sk-parallel-item:first-child::after {align-self: flex-end;width: 50%;}#sk-container-id-1 div.sk-parallel-item:last-child::after {align-self: flex-start;width: 50%;}#sk-container-id-1 div.sk-parallel-item:only-child::after {width: 0;}#sk-container-id-1 div.sk-dashed-wrapped {border: 1px dashed gray;margin: 0 0.4em 0.5em 0.4em;box-sizing: border-box;padding-bottom: 0.4em;background-color: white;}#sk-container-id-1 div.sk-label label {font-family: monospace;font-weight: bold;display: inline-block;line-height: 1.2em;}#sk-container-id-1 div.sk-label-container {text-align: center;}#sk-container-id-1 div.sk-container {/* jupyter's `normalize.less` sets `[hidden] { display: none; }` but bootstrap.min.css set `[hidden] { display: none !important; }` so we also need the `!important` here to be able to override the default hidden behavior on the sphinx rendered scikit-learn.org. See: https://github.com/scikit-learn/scikit-learn/issues/21755 */display: inline-block !important;position: relative;}#sk-container-id-1 div.sk-text-repr-fallback {display: none;}</style><div id=\"sk-container-id-1\" class=\"sk-top-container\"><div class=\"sk-text-repr-fallback\"><pre>SVC()</pre><b>In a Jupyter environment, please rerun this cell to show the HTML representation or trust the notebook. <br />On GitHub, the HTML representation is unable to render, please try loading this page with nbviewer.org.</b></div><div class=\"sk-container\" hidden><div class=\"sk-item\"><div class=\"sk-estimator sk-toggleable\"><input class=\"sk-toggleable__control sk-hidden--visually\" id=\"sk-estimator-id-1\" type=\"checkbox\" checked><label for=\"sk-estimator-id-1\" class=\"sk-toggleable__label sk-toggleable__label-arrow\">SVC</label><div class=\"sk-toggleable__content\"><pre>SVC()</pre></div></div></div></div></div>"
      ],
      "text/plain": [
       "SVC()"
      ]
     },
     "execution_count": 5,
     "metadata": {},
     "output_type": "execute_result"
    }
   ],
   "source": [
    "# Train baseline and get accuracy based on gold standard\n",
    "baseline = svm.SVC()\n",
    "baseline.fit(train_vec, y_train)"
   ],
   "metadata": {
    "ExecuteTime": {
     "end_time": "2024-03-19T20:57:51.275922Z",
     "start_time": "2024-03-19T14:34:49.865925Z"
    },
    "collapsed": false
   },
   "id": "2e63960d36bd98df",
   "execution_count": 5
  },
  {
   "cell_type": "code",
   "outputs": [
    {
     "name": "stdout",
     "output_type": "stream",
     "text": [
      "0.45777894491129784\n",
      "0.38915683580868426\n",
      "0.45777894491129784\n"
     ]
    }
   ],
   "source": [
    "# Calculate accuracy\n",
    "y_pred = baseline.predict(gold_vec)\n",
    "print(accuracy_score(y_true=y_gold, y_pred=y_pred))\n",
    "print(f1_score(y_true=y_gold, y_pred=y_pred, average='macro'))\n",
    "print(f1_score(y_true=y_gold, y_pred=y_pred, average='micro'))"
   ],
   "metadata": {
    "collapsed": false,
    "ExecuteTime": {
     "end_time": "2024-03-23T23:02:42.185525Z",
     "start_time": "2024-03-23T23:02:42.086914Z"
    }
   },
   "id": "2d2868c6df1b73fa",
   "execution_count": 6
  },
  {
   "cell_type": "code",
   "execution_count": 28,
   "id": "4a1c464dfad16b70",
   "metadata": {
    "ExecuteTime": {
     "end_time": "2024-03-20T13:40:38.538778Z",
     "start_time": "2024-03-20T13:40:38.484445Z"
    },
    "collapsed": false
   },
   "outputs": [],
   "source": [
    "# Print results for SVM\n",
    "print_results(y_pred, 'svm.jsonl')"
   ]
  },
  {
   "cell_type": "markdown",
   "source": [
    "## BERT Base Uncased Finetuned Model"
   ],
   "metadata": {
    "collapsed": false
   },
   "id": "fa535a15fc81cbee"
  },
  {
   "cell_type": "code",
   "outputs": [
    {
     "name": "stderr",
     "output_type": "stream",
     "text": [
      "Some weights of BertForSequenceClassification were not initialized from the model checkpoint at google-bert/bert-base-uncased and are newly initialized: ['classifier.bias', 'classifier.weight']\n",
      "You should probably TRAIN this model on a down-stream task to be able to use it for predictions and inference.\n",
      "huggingface/tokenizers: The current process just got forked, after parallelism has already been used. Disabling parallelism to avoid deadlocks...\n",
      "To disable this warning, you can either:\n",
      "\t- Avoid using `tokenizers` before the fork if possible\n",
      "\t- Explicitly set the environment variable TOKENIZERS_PARALLELISM=(true | false)\n",
      "huggingface/tokenizers: The current process just got forked, after parallelism has already been used. Disabling parallelism to avoid deadlocks...\n",
      "To disable this warning, you can either:\n",
      "\t- Avoid using `tokenizers` before the fork if possible\n",
      "\t- Explicitly set the environment variable TOKENIZERS_PARALLELISM=(true | false)\n"
     ]
    }
   ],
   "source": [
    "# Split the training dataset into training and eval datasets\n",
    "train_dataset, eval_dataset = train_test_split(train_data, test_size=0.2)\n",
    "\n",
    "# Convert from dataframe objects to dataset objects\n",
    "train_dataset = Dataset.from_pandas(train_dataset.drop(['id', 'model', 'source'], axis=1))\n",
    "eval_dataset = Dataset.from_pandas(eval_dataset.drop(['id', 'model', 'source'], axis=1))\n",
    "\n",
    "tokenizer = AutoTokenizer.from_pretrained(\"google-bert/bert-base-uncased\")\n",
    "\n",
    "def tokenize_function(examples):\n",
    "    return tokenizer(examples[\"text\"], padding=\"max_length\", truncation=True)\n",
    "\n",
    "# Tokenize the data and define the model, training args, and metrics\n",
    "train_tok = train_dataset.map(tokenize_function, batched=True)\n",
    "eval_tok = eval_dataset.map(tokenize_function, batched=True)\n",
    "bert = AutoModelForSequenceClassification.from_pretrained(\"google-bert/bert-base-uncased\", num_labels=2)\n",
    "training_args = TrainingArguments(output_dir=\"test_trainer\")\n",
    "metric = evaluate.load(\"accuracy\")\n",
    "\n",
    "def compute_metrics(eval_pred):\n",
    "    logits, labels = eval_pred\n",
    "    predictions = np.argmax(logits, axis=-1)\n",
    "    return metric.compute(predictions=predictions, references=labels)"
   ],
   "metadata": {
    "ExecuteTime": {
     "end_time": "2024-03-22T20:45:22.575737Z",
     "start_time": "2024-03-22T20:41:57.027715Z"
    },
    "collapsed": false,
    "editable": true,
    "slideshow": {
     "slide_type": ""
    },
    "tags": []
   },
   "id": "a066c53ad1c055fa",
   "execution_count": 5
  },
  {
   "cell_type": "code",
   "outputs": [
    {
     "name": "stderr",
     "output_type": "stream",
     "text": [
      "/home/lain/anaconda3/envs/nlp-a2/lib/python3.11/site-packages/accelerate/accelerator.py:432: FutureWarning: Passing the following arguments to `Accelerator` is deprecated and will be removed in version 1.0 of Accelerate: dict_keys(['dispatch_batches', 'split_batches']). Please pass an `accelerate.DataLoaderConfiguration` instead: \n",
      "dataloader_config = DataLoaderConfiguration(dispatch_batches=None, split_batches=False)\n",
      "  warnings.warn(\n"
     ]
    },
    {
     "data": {
      "text/html": [
       "\n",
       "    <div>\n",
       "      \n",
       "      <progress value='35928' max='35928' style='width:300px; height:20px; vertical-align: middle;'></progress>\n",
       "      [35928/35928 2:44:22, Epoch 3/3]\n",
       "    </div>\n",
       "    <table border=\"1\" class=\"dataframe\">\n",
       "  <thead>\n",
       " <tr style=\"text-align: left;\">\n",
       "      <th>Step</th>\n",
       "      <th>Training Loss</th>\n",
       "    </tr>\n",
       "  </thead>\n",
       "  <tbody>\n",
       "    <tr>\n",
       "      <td>500</td>\n",
       "      <td>0.385700</td>\n",
       "    </tr>\n",
       "    <tr>\n",
       "      <td>1000</td>\n",
       "      <td>0.286900</td>\n",
       "    </tr>\n",
       "    <tr>\n",
       "      <td>1500</td>\n",
       "      <td>0.276700</td>\n",
       "    </tr>\n",
       "    <tr>\n",
       "      <td>2000</td>\n",
       "      <td>0.301200</td>\n",
       "    </tr>\n",
       "    <tr>\n",
       "      <td>2500</td>\n",
       "      <td>0.232400</td>\n",
       "    </tr>\n",
       "    <tr>\n",
       "      <td>3000</td>\n",
       "      <td>0.237400</td>\n",
       "    </tr>\n",
       "    <tr>\n",
       "      <td>3500</td>\n",
       "      <td>0.228600</td>\n",
       "    </tr>\n",
       "    <tr>\n",
       "      <td>4000</td>\n",
       "      <td>0.199400</td>\n",
       "    </tr>\n",
       "    <tr>\n",
       "      <td>4500</td>\n",
       "      <td>0.232900</td>\n",
       "    </tr>\n",
       "    <tr>\n",
       "      <td>5000</td>\n",
       "      <td>0.209400</td>\n",
       "    </tr>\n",
       "    <tr>\n",
       "      <td>5500</td>\n",
       "      <td>0.233000</td>\n",
       "    </tr>\n",
       "    <tr>\n",
       "      <td>6000</td>\n",
       "      <td>0.203100</td>\n",
       "    </tr>\n",
       "    <tr>\n",
       "      <td>6500</td>\n",
       "      <td>0.197500</td>\n",
       "    </tr>\n",
       "    <tr>\n",
       "      <td>7000</td>\n",
       "      <td>0.211900</td>\n",
       "    </tr>\n",
       "    <tr>\n",
       "      <td>7500</td>\n",
       "      <td>0.203700</td>\n",
       "    </tr>\n",
       "    <tr>\n",
       "      <td>8000</td>\n",
       "      <td>0.214000</td>\n",
       "    </tr>\n",
       "    <tr>\n",
       "      <td>8500</td>\n",
       "      <td>0.201800</td>\n",
       "    </tr>\n",
       "    <tr>\n",
       "      <td>9000</td>\n",
       "      <td>0.177700</td>\n",
       "    </tr>\n",
       "    <tr>\n",
       "      <td>9500</td>\n",
       "      <td>0.176200</td>\n",
       "    </tr>\n",
       "    <tr>\n",
       "      <td>10000</td>\n",
       "      <td>0.176100</td>\n",
       "    </tr>\n",
       "    <tr>\n",
       "      <td>10500</td>\n",
       "      <td>0.163200</td>\n",
       "    </tr>\n",
       "    <tr>\n",
       "      <td>11000</td>\n",
       "      <td>0.185300</td>\n",
       "    </tr>\n",
       "    <tr>\n",
       "      <td>11500</td>\n",
       "      <td>0.176600</td>\n",
       "    </tr>\n",
       "    <tr>\n",
       "      <td>12000</td>\n",
       "      <td>0.171200</td>\n",
       "    </tr>\n",
       "    <tr>\n",
       "      <td>12500</td>\n",
       "      <td>0.147700</td>\n",
       "    </tr>\n",
       "    <tr>\n",
       "      <td>13000</td>\n",
       "      <td>0.167300</td>\n",
       "    </tr>\n",
       "    <tr>\n",
       "      <td>13500</td>\n",
       "      <td>0.172600</td>\n",
       "    </tr>\n",
       "    <tr>\n",
       "      <td>14000</td>\n",
       "      <td>0.135800</td>\n",
       "    </tr>\n",
       "    <tr>\n",
       "      <td>14500</td>\n",
       "      <td>0.139300</td>\n",
       "    </tr>\n",
       "    <tr>\n",
       "      <td>15000</td>\n",
       "      <td>0.133800</td>\n",
       "    </tr>\n",
       "    <tr>\n",
       "      <td>15500</td>\n",
       "      <td>0.132700</td>\n",
       "    </tr>\n",
       "    <tr>\n",
       "      <td>16000</td>\n",
       "      <td>0.135100</td>\n",
       "    </tr>\n",
       "    <tr>\n",
       "      <td>16500</td>\n",
       "      <td>0.105200</td>\n",
       "    </tr>\n",
       "    <tr>\n",
       "      <td>17000</td>\n",
       "      <td>0.102000</td>\n",
       "    </tr>\n",
       "    <tr>\n",
       "      <td>17500</td>\n",
       "      <td>0.121000</td>\n",
       "    </tr>\n",
       "    <tr>\n",
       "      <td>18000</td>\n",
       "      <td>0.111500</td>\n",
       "    </tr>\n",
       "    <tr>\n",
       "      <td>18500</td>\n",
       "      <td>0.247400</td>\n",
       "    </tr>\n",
       "    <tr>\n",
       "      <td>19000</td>\n",
       "      <td>0.158200</td>\n",
       "    </tr>\n",
       "    <tr>\n",
       "      <td>19500</td>\n",
       "      <td>0.111400</td>\n",
       "    </tr>\n",
       "    <tr>\n",
       "      <td>20000</td>\n",
       "      <td>0.125500</td>\n",
       "    </tr>\n",
       "    <tr>\n",
       "      <td>20500</td>\n",
       "      <td>0.145500</td>\n",
       "    </tr>\n",
       "    <tr>\n",
       "      <td>21000</td>\n",
       "      <td>0.106900</td>\n",
       "    </tr>\n",
       "    <tr>\n",
       "      <td>21500</td>\n",
       "      <td>0.104200</td>\n",
       "    </tr>\n",
       "    <tr>\n",
       "      <td>22000</td>\n",
       "      <td>0.114300</td>\n",
       "    </tr>\n",
       "    <tr>\n",
       "      <td>22500</td>\n",
       "      <td>0.099200</td>\n",
       "    </tr>\n",
       "    <tr>\n",
       "      <td>23000</td>\n",
       "      <td>0.097600</td>\n",
       "    </tr>\n",
       "    <tr>\n",
       "      <td>23500</td>\n",
       "      <td>0.101300</td>\n",
       "    </tr>\n",
       "    <tr>\n",
       "      <td>24000</td>\n",
       "      <td>0.094400</td>\n",
       "    </tr>\n",
       "    <tr>\n",
       "      <td>24500</td>\n",
       "      <td>0.084000</td>\n",
       "    </tr>\n",
       "    <tr>\n",
       "      <td>25000</td>\n",
       "      <td>0.060400</td>\n",
       "    </tr>\n",
       "    <tr>\n",
       "      <td>25500</td>\n",
       "      <td>0.057000</td>\n",
       "    </tr>\n",
       "    <tr>\n",
       "      <td>26000</td>\n",
       "      <td>0.056900</td>\n",
       "    </tr>\n",
       "    <tr>\n",
       "      <td>26500</td>\n",
       "      <td>0.054000</td>\n",
       "    </tr>\n",
       "    <tr>\n",
       "      <td>27000</td>\n",
       "      <td>0.058300</td>\n",
       "    </tr>\n",
       "    <tr>\n",
       "      <td>27500</td>\n",
       "      <td>0.053600</td>\n",
       "    </tr>\n",
       "    <tr>\n",
       "      <td>28000</td>\n",
       "      <td>0.062400</td>\n",
       "    </tr>\n",
       "    <tr>\n",
       "      <td>28500</td>\n",
       "      <td>0.052500</td>\n",
       "    </tr>\n",
       "    <tr>\n",
       "      <td>29000</td>\n",
       "      <td>0.060800</td>\n",
       "    </tr>\n",
       "    <tr>\n",
       "      <td>29500</td>\n",
       "      <td>0.063400</td>\n",
       "    </tr>\n",
       "    <tr>\n",
       "      <td>30000</td>\n",
       "      <td>0.052500</td>\n",
       "    </tr>\n",
       "    <tr>\n",
       "      <td>30500</td>\n",
       "      <td>0.060600</td>\n",
       "    </tr>\n",
       "    <tr>\n",
       "      <td>31000</td>\n",
       "      <td>0.053200</td>\n",
       "    </tr>\n",
       "    <tr>\n",
       "      <td>31500</td>\n",
       "      <td>0.061600</td>\n",
       "    </tr>\n",
       "    <tr>\n",
       "      <td>32000</td>\n",
       "      <td>0.042900</td>\n",
       "    </tr>\n",
       "    <tr>\n",
       "      <td>32500</td>\n",
       "      <td>0.056200</td>\n",
       "    </tr>\n",
       "    <tr>\n",
       "      <td>33000</td>\n",
       "      <td>0.052900</td>\n",
       "    </tr>\n",
       "    <tr>\n",
       "      <td>33500</td>\n",
       "      <td>0.053500</td>\n",
       "    </tr>\n",
       "    <tr>\n",
       "      <td>34000</td>\n",
       "      <td>0.035600</td>\n",
       "    </tr>\n",
       "    <tr>\n",
       "      <td>34500</td>\n",
       "      <td>0.037100</td>\n",
       "    </tr>\n",
       "    <tr>\n",
       "      <td>35000</td>\n",
       "      <td>0.037300</td>\n",
       "    </tr>\n",
       "    <tr>\n",
       "      <td>35500</td>\n",
       "      <td>0.046400</td>\n",
       "    </tr>\n",
       "  </tbody>\n",
       "</table><p>"
      ],
      "text/plain": [
       "<IPython.core.display.HTML object>"
      ]
     },
     "metadata": {},
     "output_type": "display_data"
    },
    {
     "data": {
      "text/plain": [
       "TrainOutput(global_step=35928, training_loss=0.13476263444212916, metrics={'train_runtime': 9862.8114, 'train_samples_per_second': 29.141, 'train_steps_per_second': 3.643, 'total_flos': 7.56220639762944e+16, 'train_loss': 0.13476263444212916, 'epoch': 3.0})"
      ]
     },
     "execution_count": 6,
     "metadata": {},
     "output_type": "execute_result"
    }
   ],
   "source": [
    "# Fine-tune the BERT model\n",
    "trainer = Trainer(\n",
    "    model=bert,\n",
    "    args=training_args,\n",
    "    train_dataset=train_tok,\n",
    "    eval_dataset=eval_tok,\n",
    "    compute_metrics=compute_metrics,\n",
    ")\n",
    "\n",
    "trainer.train()"
   ],
   "metadata": {
    "ExecuteTime": {
     "end_time": "2024-03-22T20:45:22.578247Z",
     "start_time": "2024-03-22T20:45:22.577988Z"
    },
    "collapsed": false
   },
   "id": "15a25638973273a2",
   "execution_count": 6
  },
  {
   "cell_type": "code",
   "outputs": [
    {
     "name": "stderr",
     "output_type": "stream",
     "text": [
      "                                                                                                                                                                                  \r"
     ]
    },
    {
     "data": {
      "text/html": [],
      "text/plain": [
       "<IPython.core.display.HTML object>"
      ]
     },
     "metadata": {},
     "output_type": "display_data"
    }
   ],
   "source": [
    "# Tokenize the test dataset\n",
    "test_dataset = Dataset.from_pandas(gold_data.drop(['id', 'label'], axis=1))\n",
    "test_tok = test_dataset.map(tokenize_function, batched=True)\n",
    "# Get the predictions of the test dataset\n",
    "bert_pred = trainer.predict(test_tok)"
   ],
   "metadata": {},
   "id": "d63d99d1-a3dd-429f-99af-65d61df949a8",
   "execution_count": 20
  },
  {
   "cell_type": "code",
   "outputs": [],
   "source": [
    "# Put all predictions into a list\n",
    "b_pred = []\n",
    "for pred in bert_pred.predictions:\n",
    "    if pred[0] > pred[1]:\n",
    "        b_pred.append(0)\n",
    "    else:\n",
    "        b_pred.append(1)"
   ],
   "metadata": {},
   "id": "c81c93bc-fe1c-4c06-8259-5dd27c750c3e",
   "execution_count": 29
  },
  {
   "cell_type": "code",
   "outputs": [
    {
     "name": "stdout",
     "output_type": "stream",
     "text": [
      "0.6977999533146592\n",
      "0.6783040771963408\n",
      "0.6977999533146592\n"
     ]
    }
   ],
   "source": [
    "# Print the metrics\n",
    "print(accuracy_score(y_true=y_gold, y_pred=b_pred))\n",
    "print(f1_score(y_true=y_gold, y_pred=b_pred, average='macro'))\n",
    "print(f1_score(y_true=y_gold, y_pred=b_pred, average='micro'))"
   ],
   "metadata": {},
   "id": "dc8d5a9e-842e-4b22-9e7a-260fba499380",
   "execution_count": 30
  },
  {
   "cell_type": "code",
   "execution_count": 35,
   "id": "8cb96cc9cf657a5c",
   "metadata": {
    "collapsed": false
   },
   "outputs": [],
   "source": [
    "# Print the results for BERT\n",
    "print_results(b_pred, 'bert.jsonl')"
   ]
  },
  {
   "cell_type": "markdown",
   "source": [
    "## Cohere Fine-tuned Classification Model"
   ],
   "metadata": {
    "collapsed": false
   },
   "id": "a11ae5bfab8a4ae1"
  },
  {
   "cell_type": "code",
   "outputs": [],
   "source": [
    "# Make JSON file to give to Cohere dashboard\n",
    "train_jsonl = train_data.drop(['id', 'model', 'source'], axis=1)\n",
    "train_jsonl.label = train_jsonl.label.astype(str)\n",
    "train_jsonl.to_json('train.jsonl', orient='records', lines=True)"
   ],
   "metadata": {
    "ExecuteTime": {
     "end_time": "2024-03-20T00:11:27.484690Z",
     "start_time": "2024-03-20T00:11:24.371084Z"
    },
    "collapsed": false
   },
   "id": "e3fe2bd62897662b",
   "execution_count": 19
  },
  {
   "cell_type": "code",
   "outputs": [],
   "source": [
    "texts = test_data['text'].tolist()\n",
    "# Make a list of lists where each inner list is of max size 96 (API limitations)\n",
    "inputs = []\n",
    "curr_input = []\n",
    "for text in texts:\n",
    "    curr_input.append(text)\n",
    "    if len(curr_input) == 96:\n",
    "        inputs.append(curr_input)\n",
    "        curr_input = []"
   ],
   "metadata": {
    "ExecuteTime": {
     "end_time": "2024-03-22T01:06:04.405095Z",
     "start_time": "2024-03-22T01:06:04.372269Z"
    },
    "collapsed": false
   },
   "id": "b516b2a074aff9a5",
   "execution_count": 6
  },
  {
   "cell_type": "code",
   "outputs": [],
   "source": [
    "# Get the Cohere predictions and put them into a list\n",
    "co = cohere.Client('SECRET') # This is your trial API key\n",
    "responses = []\n",
    "for input in inputs:\n",
    "    response = co.classify(\n",
    "      model='77a9f33a-4bba-4b4f-9fee-074373d8b122-ft',\n",
    "      inputs=input)\n",
    "    responses.append(response)"
   ],
   "metadata": {
    "ExecuteTime": {
     "end_time": "2024-03-22T01:16:48.588035Z",
     "start_time": "2024-03-22T01:06:06.204896Z"
    },
    "collapsed": false
   },
   "id": "11088a7c7058c068",
   "execution_count": 7
  },
  {
   "cell_type": "markdown",
   "source": [],
   "metadata": {
    "collapsed": false
   },
   "id": "e43064e3c54b945f"
  },
  {
   "cell_type": "code",
   "outputs": [],
   "source": [
    "# Print results for Cohere\n",
    "cohere_pred = []\n",
    "for response in responses:\n",
    "    for pred in response:\n",
    "        cohere_pred.append(pred.predictions[0])\n",
    "cohere_pred = [int(x) for x in cohere_pred]\n",
    "print_results(cohere_pred, 'cohere.jsonl')"
   ],
   "metadata": {
    "ExecuteTime": {
     "end_time": "2024-03-22T01:16:48.707735Z",
     "start_time": "2024-03-22T01:16:48.600843Z"
    },
    "collapsed": false
   },
   "id": "39c3efd5b1cdd637",
   "execution_count": 9
  },
  {
   "cell_type": "code",
   "outputs": [
    {
     "name": "stdout",
     "output_type": "stream",
     "text": [
      "0.7626633986928104\n",
      "0.756575262126163\n",
      "0.7626633986928104\n"
     ]
    }
   ],
   "source": [
    "print(accuracy_score(y_true=y_gold, y_pred=cohere_pred))\n",
    "print(f1_score(y_true=y_gold, y_pred=cohere_pred, average='macro'))\n",
    "print(f1_score(y_true=y_gold, y_pred=cohere_pred, average='micro'))"
   ],
   "metadata": {
    "ExecuteTime": {
     "end_time": "2024-03-22T01:19:56.717885Z",
     "start_time": "2024-03-22T01:19:56.607048Z"
    },
    "collapsed": false
   },
   "id": "435694ddb3eb82b1",
   "execution_count": 17
  }
 ],
 "metadata": {
  "kernelspec": {
   "name": "python3",
   "language": "python",
   "display_name": "Python 3 (ipykernel)"
  },
  "language_info": {
   "codemirror_mode": {
    "name": "ipython",
    "version": 3
   },
   "file_extension": ".py",
   "mimetype": "text/x-python",
   "name": "python",
   "nbconvert_exporter": "python",
   "pygments_lexer": "ipython3",
   "version": "3.11.5"
  }
 },
 "nbformat": 4,
 "nbformat_minor": 5
}
